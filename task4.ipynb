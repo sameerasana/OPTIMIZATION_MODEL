{
 "cells": [
  {
   "cell_type": "code",
   "execution_count": 8,
   "id": "126700e3",
   "metadata": {},
   "outputs": [
    {
     "name": "stdout",
     "output_type": "stream",
     "text": [
      "Status: Optimal\n",
      "Solution: {'P1': 26.666667, 'P2': 36.666667}\n",
      "Total Profit: 1633.3333499999999\n"
     ]
    },
    {
     "data": {
      "image/png": "[encoded data removed]",
      "text/plain": [
       "<Figure size 640x480 with 1 Axes>"
      ]
     },
     "metadata": {},
     "output_type": "display_data"
    }
   ],
   "source": [
    "import pulp\n",
    "import pandas as pd\n",
    "import matplotlib.pyplot as plt\n",
    "\n",
    "# Load data from CSV\n",
    "df = pd.read_csv(\"input_data.csv\")\n",
    "\n",
    "# Extract sets and parameters\n",
    "products = df['product'].tolist()\n",
    "profit = dict(zip(df['product'], df['profit']))\n",
    "usage_M1 = dict(zip(df['product'], df['M1_usage']))\n",
    "usage_M2 = dict(zip(df['product'], df['M2_usage']))\n",
    "\n",
    "# Resource availability\n",
    "availability = {\"M1\": 100, \"M2\": 90}\n",
    "\n",
    "# Create LP problem\n",
    "prob = pulp.LpProblem(\"Production_Planning\", pulp.LpMaximize)\n",
    "\n",
    "# Decision variables\n",
    "x = pulp.LpVariable.dicts(\"prod\", products, lowBound=0, cat=\"Continuous\")\n",
    "\n",
    "# Objective function\n",
    "prob += pulp.lpSum([profit[p] * x[p] for p in products]), \"Total_Profit\"\n",
    "\n",
    "# Constraints\n",
    "prob += pulp.lpSum([usage_M1[p] * x[p] for p in products]) <= availability[\"M1\"], \"Machine_1\"\n",
    "prob += pulp.lpSum([usage_M2[p] * x[p] for p in products]) <= availability[\"M2\"], \"Machine_2\"\n",
    "\n",
    "# Solve\n",
    "prob.solve()\n",
    "\n",
    "# Results\n",
    "status = pulp.LpStatus[prob.status]\n",
    "solution = {p: x[p].value() for p in products}\n",
    "objective_value = pulp.value(prob.objective)\n",
    "\n",
    "print(\"Status:\", status)\n",
    "print(\"Solution:\", solution)\n",
    "print(\"Total Profit:\", objective_value)\n",
    "\n",
    "# Save results to CSV\n",
    "df_out = pd.DataFrame.from_dict(solution, orient='index', columns=[\"units\"])\n",
    "df_out[\"profit_per_unit\"] = df_out.index.map(lambda p: profit[p])\n",
    "df_out[\"total_profit\"] = df_out[\"units\"] * df_out[\"profit_per_unit\"]\n",
    "df_out.to_csv(\"solution.csv\")\n",
    "\n",
    "# Plot\n",
    "plt.figure()\n",
    "df_out[\"units\"].plot(kind=\"bar\", color=\"skyblue\")\n",
    "plt.title(\"Optimal Production Plan\")\n",
    "plt.ylabel(\"Units\")\n",
    "plt.tight_layout()\n",
    "plt.savefig(\"output/production_plot.png\")\n",
    "plt.show()"
   ]
  }
 ],
 "metadata": {
  "kernelspec": {
   "display_name": "Python 3",
   "language": "python",
   "name": "python3"
  },
  "language_info": {
   "codemirror_mode": {
    "name": "ipython",
    "version": 3
   },
   "file_extension": ".py",
   "mimetype": "text/x-python",
   "name": "python",
   "nbconvert_exporter": "python",
   "pygments_lexer": "ipython3",
   "version": "3.11.9"
  }
 },
 "nbformat": 4,
 "nbformat_minor": 5
}
